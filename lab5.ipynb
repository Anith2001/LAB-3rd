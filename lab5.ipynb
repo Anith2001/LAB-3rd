{
 "cells": [
  {
   "cell_type": "code",
   "execution_count": null,
   "metadata": {},
   "outputs": [],
   "source": [
    "#https://raw.githubusercontent.com/KMITDS/CS601PC/main/individual.csv"
   ]
  },
  {
   "cell_type": "code",
   "execution_count": 1,
   "metadata": {},
   "outputs": [
    {
     "data": {
      "text/html": [
       "<div>\n",
       "<style scoped>\n",
       "    .dataframe tbody tr th:only-of-type {\n",
       "        vertical-align: middle;\n",
       "    }\n",
       "\n",
       "    .dataframe tbody tr th {\n",
       "        vertical-align: top;\n",
       "    }\n",
       "\n",
       "    .dataframe thead th {\n",
       "        text-align: right;\n",
       "    }\n",
       "</style>\n",
       "<table border=\"1\" class=\"dataframe\">\n",
       "  <thead>\n",
       "    <tr style=\"text-align: right;\">\n",
       "      <th></th>\n",
       "      <th>Id</th>\n",
       "      <th>income</th>\n",
       "      <th>recreation</th>\n",
       "      <th>job</th>\n",
       "      <th>status</th>\n",
       "      <th>age-group</th>\n",
       "      <th>home-owner</th>\n",
       "      <th>cw</th>\n",
       "    </tr>\n",
       "  </thead>\n",
       "  <tbody>\n",
       "    <tr>\n",
       "      <th>0</th>\n",
       "      <td>1</td>\n",
       "      <td>medium</td>\n",
       "      <td>skiing</td>\n",
       "      <td>design</td>\n",
       "      <td>single</td>\n",
       "      <td>twenties</td>\n",
       "      <td>no</td>\n",
       "      <td>highRisk</td>\n",
       "    </tr>\n",
       "    <tr>\n",
       "      <th>1</th>\n",
       "      <td>2</td>\n",
       "      <td>high</td>\n",
       "      <td>golf</td>\n",
       "      <td>trading</td>\n",
       "      <td>married</td>\n",
       "      <td>forties</td>\n",
       "      <td>yes</td>\n",
       "      <td>lowRisk</td>\n",
       "    </tr>\n",
       "    <tr>\n",
       "      <th>2</th>\n",
       "      <td>3</td>\n",
       "      <td>low</td>\n",
       "      <td>speedway</td>\n",
       "      <td>transport</td>\n",
       "      <td>married</td>\n",
       "      <td>thirties</td>\n",
       "      <td>yes</td>\n",
       "      <td>medRisk</td>\n",
       "    </tr>\n",
       "    <tr>\n",
       "      <th>3</th>\n",
       "      <td>4</td>\n",
       "      <td>medium</td>\n",
       "      <td>football</td>\n",
       "      <td>banking</td>\n",
       "      <td>single</td>\n",
       "      <td>thirties</td>\n",
       "      <td>yes</td>\n",
       "      <td>lowRisk</td>\n",
       "    </tr>\n",
       "    <tr>\n",
       "      <th>4</th>\n",
       "      <td>5</td>\n",
       "      <td>high</td>\n",
       "      <td>flying</td>\n",
       "      <td>media</td>\n",
       "      <td>married</td>\n",
       "      <td>fifties</td>\n",
       "      <td>yes</td>\n",
       "      <td>highRisk</td>\n",
       "    </tr>\n",
       "    <tr>\n",
       "      <th>5</th>\n",
       "      <td>6</td>\n",
       "      <td>low</td>\n",
       "      <td>football</td>\n",
       "      <td>security</td>\n",
       "      <td>single</td>\n",
       "      <td>twenties</td>\n",
       "      <td>no</td>\n",
       "      <td>medRisk</td>\n",
       "    </tr>\n",
       "    <tr>\n",
       "      <th>6</th>\n",
       "      <td>7</td>\n",
       "      <td>medium</td>\n",
       "      <td>golf</td>\n",
       "      <td>media</td>\n",
       "      <td>single</td>\n",
       "      <td>thirties</td>\n",
       "      <td>yes</td>\n",
       "      <td>medRisk</td>\n",
       "    </tr>\n",
       "    <tr>\n",
       "      <th>7</th>\n",
       "      <td>8</td>\n",
       "      <td>medium</td>\n",
       "      <td>golf</td>\n",
       "      <td>transport</td>\n",
       "      <td>married</td>\n",
       "      <td>forties</td>\n",
       "      <td>yes</td>\n",
       "      <td>lowRisk</td>\n",
       "    </tr>\n",
       "    <tr>\n",
       "      <th>8</th>\n",
       "      <td>9</td>\n",
       "      <td>high</td>\n",
       "      <td>skiing</td>\n",
       "      <td>banking</td>\n",
       "      <td>single</td>\n",
       "      <td>thirties</td>\n",
       "      <td>yes</td>\n",
       "      <td>highRisk</td>\n",
       "    </tr>\n",
       "    <tr>\n",
       "      <th>9</th>\n",
       "      <td>10</td>\n",
       "      <td>low</td>\n",
       "      <td>golf</td>\n",
       "      <td>unemployed</td>\n",
       "      <td>married</td>\n",
       "      <td>forties</td>\n",
       "      <td>yes</td>\n",
       "      <td>highRisk</td>\n",
       "    </tr>\n",
       "  </tbody>\n",
       "</table>\n",
       "</div>"
      ],
      "text/plain": [
       "   Id  income recreation         job   status age-group home-owner        cw\n",
       "0   1  medium     skiing      design   single  twenties         no  highRisk\n",
       "1   2    high       golf     trading  married   forties        yes   lowRisk\n",
       "2   3     low   speedway   transport  married  thirties        yes   medRisk\n",
       "3   4  medium   football     banking   single  thirties        yes   lowRisk\n",
       "4   5    high     flying       media  married   fifties        yes  highRisk\n",
       "5   6     low   football    security   single  twenties         no   medRisk\n",
       "6   7  medium       golf       media   single  thirties        yes   medRisk\n",
       "7   8  medium       golf   transport  married   forties        yes   lowRisk\n",
       "8   9    high     skiing     banking   single  thirties        yes  highRisk\n",
       "9  10     low       golf  unemployed  married   forties        yes  highRisk"
      ]
     },
     "execution_count": 1,
     "metadata": {},
     "output_type": "execute_result"
    }
   ],
   "source": [
    "import pandas as pd\n",
    "df=pd.read_csv(\"individual.csv\")\n",
    "df.head(10)"
   ]
  },
  {
   "cell_type": "code",
   "execution_count": 2,
   "metadata": {},
   "outputs": [
    {
     "data": {
      "text/html": [
       "<div>\n",
       "<style scoped>\n",
       "    .dataframe tbody tr th:only-of-type {\n",
       "        vertical-align: middle;\n",
       "    }\n",
       "\n",
       "    .dataframe tbody tr th {\n",
       "        vertical-align: top;\n",
       "    }\n",
       "\n",
       "    .dataframe thead th {\n",
       "        text-align: right;\n",
       "    }\n",
       "</style>\n",
       "<table border=\"1\" class=\"dataframe\">\n",
       "  <thead>\n",
       "    <tr style=\"text-align: right;\">\n",
       "      <th></th>\n",
       "      <th>Id</th>\n",
       "      <th>income</th>\n",
       "      <th>recreation</th>\n",
       "      <th>job</th>\n",
       "      <th>status</th>\n",
       "      <th>age-group</th>\n",
       "      <th>home-owner</th>\n",
       "      <th>cw</th>\n",
       "    </tr>\n",
       "  </thead>\n",
       "  <tbody>\n",
       "    <tr>\n",
       "      <th>5</th>\n",
       "      <td>6</td>\n",
       "      <td>low</td>\n",
       "      <td>football</td>\n",
       "      <td>security</td>\n",
       "      <td>single</td>\n",
       "      <td>twenties</td>\n",
       "      <td>no</td>\n",
       "      <td>medRisk</td>\n",
       "    </tr>\n",
       "    <tr>\n",
       "      <th>6</th>\n",
       "      <td>7</td>\n",
       "      <td>medium</td>\n",
       "      <td>golf</td>\n",
       "      <td>media</td>\n",
       "      <td>single</td>\n",
       "      <td>thirties</td>\n",
       "      <td>yes</td>\n",
       "      <td>medRisk</td>\n",
       "    </tr>\n",
       "  </tbody>\n",
       "</table>\n",
       "</div>"
      ],
      "text/plain": [
       "   Id  income recreation       job  status age-group home-owner       cw\n",
       "5   6     low   football  security  single  twenties         no  medRisk\n",
       "6   7  medium       golf     media  single  thirties        yes  medRisk"
      ]
     },
     "execution_count": 2,
     "metadata": {},
     "output_type": "execute_result"
    }
   ],
   "source": [
    "df[(df.status=='single') & (df.cw=='medRisk')]"
   ]
  },
  {
   "cell_type": "code",
   "execution_count": 3,
   "metadata": {},
   "outputs": [
    {
     "data": {
      "text/plain": [
       "Index(['Id', 'income', 'recreation', 'job', 'status', 'age-group',\n",
       "       'home-owner', 'cw'],\n",
       "      dtype='object')"
      ]
     },
     "execution_count": 3,
     "metadata": {},
     "output_type": "execute_result"
    }
   ],
   "source": [
    "df.columns"
   ]
  },
  {
   "cell_type": "code",
   "execution_count": 4,
   "metadata": {},
   "outputs": [
    {
     "data": {
      "text/html": [
       "<div>\n",
       "<style scoped>\n",
       "    .dataframe tbody tr th:only-of-type {\n",
       "        vertical-align: middle;\n",
       "    }\n",
       "\n",
       "    .dataframe tbody tr th {\n",
       "        vertical-align: top;\n",
       "    }\n",
       "\n",
       "    .dataframe thead th {\n",
       "        text-align: right;\n",
       "    }\n",
       "</style>\n",
       "<table border=\"1\" class=\"dataframe\">\n",
       "  <thead>\n",
       "    <tr style=\"text-align: right;\">\n",
       "      <th></th>\n",
       "      <th>Id</th>\n",
       "      <th>income</th>\n",
       "      <th>recreation</th>\n",
       "      <th>job</th>\n",
       "      <th>status</th>\n",
       "      <th>age-group</th>\n",
       "      <th>home-owner</th>\n",
       "      <th>cw</th>\n",
       "    </tr>\n",
       "  </thead>\n",
       "  <tbody>\n",
       "    <tr>\n",
       "      <th>2</th>\n",
       "      <td>3</td>\n",
       "      <td>low</td>\n",
       "      <td>speedway</td>\n",
       "      <td>transport</td>\n",
       "      <td>married</td>\n",
       "      <td>thirties</td>\n",
       "      <td>yes</td>\n",
       "      <td>medRisk</td>\n",
       "    </tr>\n",
       "    <tr>\n",
       "      <th>5</th>\n",
       "      <td>6</td>\n",
       "      <td>low</td>\n",
       "      <td>football</td>\n",
       "      <td>security</td>\n",
       "      <td>single</td>\n",
       "      <td>twenties</td>\n",
       "      <td>no</td>\n",
       "      <td>medRisk</td>\n",
       "    </tr>\n",
       "    <tr>\n",
       "      <th>6</th>\n",
       "      <td>7</td>\n",
       "      <td>medium</td>\n",
       "      <td>golf</td>\n",
       "      <td>media</td>\n",
       "      <td>single</td>\n",
       "      <td>thirties</td>\n",
       "      <td>yes</td>\n",
       "      <td>medRisk</td>\n",
       "    </tr>\n",
       "  </tbody>\n",
       "</table>\n",
       "</div>"
      ],
      "text/plain": [
       "   Id  income recreation        job   status age-group home-owner       cw\n",
       "2   3     low   speedway  transport  married  thirties        yes  medRisk\n",
       "5   6     low   football   security   single  twenties         no  medRisk\n",
       "6   7  medium       golf      media   single  thirties        yes  medRisk"
      ]
     },
     "execution_count": 4,
     "metadata": {},
     "output_type": "execute_result"
    }
   ],
   "source": [
    "df[(df.cw=='medRisk')]"
   ]
  },
  {
   "cell_type": "code",
   "execution_count": 5,
   "metadata": {},
   "outputs": [
    {
     "data": {
      "text/plain": [
       "0.6666666666666666"
      ]
     },
     "execution_count": 5,
     "metadata": {},
     "output_type": "execute_result"
    }
   ],
   "source": [
    "df[(df.status=='single') & (df.cw=='medRisk')].shape[0]/df[(df.cw=='medRisk')].shape[0]"
   ]
  },
  {
   "cell_type": "code",
   "execution_count": 6,
   "metadata": {},
   "outputs": [
    {
     "data": {
      "text/plain": [
       "0.4"
      ]
     },
     "execution_count": 6,
     "metadata": {},
     "output_type": "execute_result"
    }
   ],
   "source": [
    "df[(df.recreation=='golf')].shape[0]/df.shape[0]"
   ]
  }
 ],
 "metadata": {
  "kernelspec": {
   "display_name": "Python 3",
   "language": "python",
   "name": "python3"
  },
  "language_info": {
   "codemirror_mode": {
    "name": "ipython",
    "version": 3
   },
   "file_extension": ".py",
   "mimetype": "text/x-python",
   "name": "python",
   "nbconvert_exporter": "python",
   "pygments_lexer": "ipython3",
   "version": "3.8.5"
  }
 },
 "nbformat": 4,
 "nbformat_minor": 4
}
