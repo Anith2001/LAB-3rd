{
 "cells": [
  {
   "cell_type": "code",
   "execution_count": 1,
   "metadata": {},
   "outputs": [],
   "source": [
    "import numpy as np\n",
    "import matplotlib.pyplot as plt\n",
    "from matplotlib import style"
   ]
  },
  {
   "cell_type": "code",
   "execution_count": 2,
   "metadata": {},
   "outputs": [],
   "source": [
    "style.use('ggplot')"
   ]
  },
  {
   "cell_type": "code",
   "execution_count": 3,
   "metadata": {},
   "outputs": [
    {
     "name": "stdout",
     "output_type": "stream",
     "text": [
      "[[1.713 1.586]\n",
      " [0.18  1.786]\n",
      " [0.353 1.24 ]\n",
      " [0.94  1.566]\n",
      " [1.486 0.759]\n",
      " [1.266 1.106]\n",
      " [1.54  0.419]\n",
      " [0.459 1.799]\n",
      " [0.773 0.186]\n",
      " [0.906 0.606]]\n"
     ]
    }
   ],
   "source": [
    "from sklearn.cluster import KMeans\n",
    "X1 = np.array([[1.713,1.586],[0.18,1.786],[0.353,1.24],[0.94,1.566],[1.486,0.759],[1.266,1.106],[1.54,0.419],[0.459,1.799],[0.773,0.186],[0.906,0.606]])\n",
    "#X2=np.array([[0.906,0.606]])\n",
    "print(X1)   "
   ]
  },
  {
   "cell_type": "code",
   "execution_count": 5,
   "metadata": {},
   "outputs": [
    {
     "data": {
      "text/plain": [
       "KMeans(n_clusters=3, random_state=2)"
      ]
     },
     "execution_count": 5,
     "metadata": {},
     "output_type": "execute_result"
    }
   ],
   "source": [
    "kmeans = KMeans(n_clusters=3,random_state=2)\n",
    "kmeans.fit(X1)"
   ]
  },
  {
   "cell_type": "code",
   "execution_count": null,
   "metadata": {},
   "outputs": [],
   "source": []
  },
  {
   "cell_type": "code",
   "execution_count": 6,
   "metadata": {},
   "outputs": [
    {
     "name": "stdout",
     "output_type": "stream",
     "text": [
      "[[1.30633333 1.41933333]\n",
      " [1.17625    0.4925    ]\n",
      " [0.33066667 1.60833333]]\n",
      "[0 2 2 0 1 0 1 2 1 1]\n"
     ]
    }
   ],
   "source": [
    "centroid = kmeans.cluster_centers_\n",
    "labels = kmeans.labels_\n",
    "print (centroid)\n",
    "print(labels)"
   ]
  },
  {
   "cell_type": "code",
   "execution_count": 12,
   "metadata": {},
   "outputs": [
    {
     "name": "stdout",
     "output_type": "stream",
     "text": [
      "coordinate: [1.713 1.586] label: 0\n",
      "coordinate: [0.18  1.786] label: 2\n",
      "coordinate: [0.353 1.24 ] label: 2\n",
      "coordinate: [0.94  1.566] label: 0\n",
      "coordinate: [1.486 0.759] label: 1\n",
      "coordinate: [1.266 1.106] label: 0\n",
      "coordinate: [1.54  0.419] label: 1\n",
      "coordinate: [0.459 1.799] label: 2\n",
      "coordinate: [0.773 0.186] label: 1\n",
      "coordinate: [0.906 0.606] label: 1\n"
     ]
    },
    {
     "data": {
      "image/png": "[encoded data removed]",
      "text/plain": [
       "<Figure size 432x288 with 1 Axes>"
      ]
     },
     "metadata": {},
     "output_type": "display_data"
    }
   ],
   "source": [
    "colors = [\"g.\",\"r.\",\"c.\"]       # do comment for tessellator\n",
    "for i in range(len(X1)):\n",
    "   print (\"coordinate:\" , X1[i], \"label:\", labels[i])\n",
    "   plt.plot(X1[i][0],X1[i][1],colors[labels[i]],markersize=20)         # do comment for tessellator\n",
    "\n",
    "plt.scatter(centroid[:,0],centroid[:,1], marker = \"x\", s=200, linewidths =10, zorder =20)\n",
    "                                                         # do comment for tessellator\n",
    "plt.show() "
   ]
  }
 ],
 "metadata": {
  "kernelspec": {
   "display_name": "Python 3",
   "language": "python",
   "name": "python3"
  },
  "language_info": {
   "codemirror_mode": {
    "name": "ipython",
    "version": 3
   },
   "file_extension": ".py",
   "mimetype": "text/x-python",
   "name": "python",
   "nbconvert_exporter": "python",
   "pygments_lexer": "ipython3",
   "version": "3.8.5"
  }
 },
 "nbformat": 4,
 "nbformat_minor": 4
}
