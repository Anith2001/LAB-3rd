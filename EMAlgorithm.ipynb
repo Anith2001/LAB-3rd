{
 "cells": [
  {
   "cell_type": "code",
   "execution_count": 1,
   "metadata": {},
   "outputs": [],
   "source": [
    "import numpy as np\n",
    "import pandas as pd\n",
    "import matplotlib.pyplot as plt\n",
    "import seaborn as sns\n",
    "sns.set_style(\"white\")\n",
    "%matplotlib inline\n",
    "from math import sqrt, log, exp, pi\n",
    "from random import uniform"
   ]
  },
  {
   "cell_type": "code",
   "execution_count": 7,
   "metadata": {},
   "outputs": [
    {
     "name": "stdout",
     "output_type": "stream",
     "text": [
      "Input Gaussian 1: μ = 2e+01, σ = 5.0\n",
      "Input Gaussian 2: μ = 4e+01, σ = 5.0\n"
     ]
    },
    {
     "data": {
      "text/plain": [
       "(array([7.42992335e-05, 1.48598467e-04, 2.22897700e-04, 3.71496167e-04,\n",
       "        9.65890035e-04, 2.00607930e-03, 2.15467777e-03, 3.93785937e-03,\n",
       "        6.24113561e-03, 8.09861645e-03, 1.06247904e-02, 1.24079720e-02,\n",
       "        1.94663992e-02, 2.24383685e-02, 2.02836907e-02, 2.80851102e-02,\n",
       "        2.60790309e-02, 2.65991256e-02, 2.46673455e-02, 2.09523838e-02,\n",
       "        1.83519107e-02, 1.36710590e-02, 1.22593735e-02, 1.04018927e-02,\n",
       "        9.73319958e-03, 1.08476881e-02, 1.32252636e-02, 1.95406984e-02,\n",
       "        2.28841639e-02, 3.14285758e-02, 3.75954121e-02, 4.45052408e-02,\n",
       "        4.82202025e-02, 5.01519826e-02, 5.14893688e-02, 5.20094634e-02,\n",
       "        4.68085171e-02, 4.24991615e-02, 3.23201666e-02, 2.68963225e-02,\n",
       "        2.26612662e-02, 1.39682559e-02, 1.01789950e-02, 5.72104098e-03,\n",
       "        4.01215861e-03, 2.30327624e-03, 9.65890035e-04, 5.94393868e-04,\n",
       "        3.71496167e-04, 1.48598467e-04]),\n",
       " array([ 1.61065566,  2.73224641,  3.85383717,  4.97542792,  6.09701868,\n",
       "         7.21860943,  8.34020019,  9.46179094, 10.5833817 , 11.70497245,\n",
       "        12.82656321, 13.94815396, 15.06974471, 16.19133547, 17.31292622,\n",
       "        18.43451698, 19.55610773, 20.67769849, 21.79928924, 22.92088   ,\n",
       "        24.04247075, 25.16406151, 26.28565226, 27.40724302, 28.52883377,\n",
       "        29.65042453, 30.77201528, 31.89360604, 33.01519679, 34.13678755,\n",
       "        35.2583783 , 36.37996906, 37.50155981, 38.62315057, 39.74474132,\n",
       "        40.86633207, 41.98792283, 43.10951358, 44.23110434, 45.35269509,\n",
       "        46.47428585, 47.5958766 , 48.71746736, 49.83905811, 50.96064887,\n",
       "        52.08223962, 53.20383038, 54.32542113, 55.44701189, 56.56860264,\n",
       "        57.6901934 ]),\n",
       " <BarContainer object of 50 artists>)"
      ]
     },
     "execution_count": 7,
     "metadata": {},
     "output_type": "execute_result"
    },
    {
     "data": {
      "image/png": "[encoded data removed]",
      "text/plain": [
       "<Figure size 432x288 with 1 Axes>"
      ]
     },
     "metadata": {
      "needs_background": "light"
     },
     "output_type": "display_data"
    }
   ],
   "source": [
    "mean_1=20.0\n",
    "std_1=5.0\n",
    "mean_2=40.0\n",
    "std_2=5.0\n",
    "\n",
    "y1=np.random.normal(mean_1,std_1,4000)\n",
    "y2=np.random.normal(mean_2,std_2,8000)\n",
    "#data=np.append(y1,y2)\n",
    "data=np.hstack((y1,y2))\n",
    "\n",
    "Min_graph=min(data)\n",
    "Max_graph=max(data)\n",
    "x=np.linspace(Min_graph,Max_graph,2000)\n",
    "\n",
    "print('Input Gaussian {:}: μ = {:.2}, σ = {:.2}'.format(\"1\", mean_1, std_1))\n",
    "print('Input Gaussian {:}: μ = {:.2}, σ = {:.2}'.format(\"2\", mean_2, std_2))\n",
    "\n",
    "#sns.histplot(data,bins=50,kde=False)\n",
    "plt.hist(data,bins=50,density=True)\n"
   ]
  },
  {
   "cell_type": "code",
   "execution_count": 13,
   "metadata": {},
   "outputs": [
    {
     "name": "stdout",
     "output_type": "stream",
     "text": [
      "[[15.15771384]\n",
      " [19.25083328]\n",
      " [20.83889709]\n",
      " ...\n",
      " [36.90587096]\n",
      " [35.84467977]\n",
      " [35.80773954]]\n"
     ]
    }
   ],
   "source": [
    "from sklearn.mixture import GaussianMixture\n",
    "sample=data.reshape((len(data),1))\n",
    "print(sample)"
   ]
  },
  {
   "cell_type": "code",
   "execution_count": 14,
   "metadata": {},
   "outputs": [],
   "source": [
    "gmm=GaussianMixture(n_components=2,init_params='random')"
   ]
  },
  {
   "cell_type": "code",
   "execution_count": 15,
   "metadata": {},
   "outputs": [
    {
     "data": {
      "text/plain": [
       "GaussianMixture(init_params='random', n_components=2)"
      ]
     },
     "execution_count": 15,
     "metadata": {},
     "output_type": "execute_result"
    }
   ],
   "source": [
    "gmm.fit(sample)"
   ]
  },
  {
   "cell_type": "code",
   "execution_count": 17,
   "metadata": {},
   "outputs": [],
   "source": [
    "y=gmm.predict(sample)"
   ]
  },
  {
   "cell_type": "code",
   "execution_count": 22,
   "metadata": {},
   "outputs": [
    {
     "name": "stdout",
     "output_type": "stream",
     "text": [
      "[0 0 0 0 0 1 0 0 0 0 0 0 1 0 0 0 0 0 0 0 0 0 0 1 0 0 0 0 0 0 0 0 1 0 0 0 0\n",
      " 0 0 0 1 0 0 0 0 0 0 0 0 0 0 0 0 0 0 0 0 0 0 0 1 0 1 1 0 0 0 0 0 1 0 0 0 0\n",
      " 0 1 0 0 0 0]\n",
      "[1 1 1 1 1 1 1 1 1 1 1 1 1 1 1 1 1 1 1 1 1 1 1 1 1 1 1 1 1 1 1 1 1 1 1 1 1\n",
      " 1 1 1 1 1 1 1 1 1 1 1 1 1 1 1 1 1 1 1 1 1 1 1 1 1 1 1 1 1 1 1 1 1 1 1 1 1\n",
      " 1 1 1 1 1 1]\n"
     ]
    }
   ],
   "source": [
    "print(y[:80])\n",
    "print(y[-80:])"
   ]
  },
  {
   "cell_type": "code",
   "execution_count": 25,
   "metadata": {},
   "outputs": [
    {
     "data": {
      "text/plain": [
       "(12000,)"
      ]
     },
     "execution_count": 25,
     "metadata": {},
     "output_type": "execute_result"
    }
   ],
   "source": [
    "y.shape"
   ]
  }
 ],
 "metadata": {
  "kernelspec": {
   "display_name": "Python 3",
   "language": "python",
   "name": "python3"
  },
  "language_info": {
   "codemirror_mode": {
    "name": "ipython",
    "version": 3
   },
   "file_extension": ".py",
   "mimetype": "text/x-python",
   "name": "python",
   "nbconvert_exporter": "python",
   "pygments_lexer": "ipython3",
   "version": "3.8.5"
  }
 },
 "nbformat": 4,
 "nbformat_minor": 4
}
