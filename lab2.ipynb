{
 "cells": [
  {
   "cell_type": "code",
   "execution_count": 1,
   "metadata": {},
   "outputs": [],
   "source": [
    "import sqlite3 as sq"
   ]
  },
  {
   "cell_type": "code",
   "execution_count": 5,
   "metadata": {},
   "outputs": [
    {
     "name": "stdout",
     "output_type": "stream",
     "text": [
      "[('Anith', 21), ('Arjun', 20)]\n"
     ]
    }
   ],
   "source": [
    "conn=sq.connect(\"studentinfo\")\n",
    "cur=conn.cursor()\n",
    "cur.execute(\"drop table if exists student\")\n",
    "cur.execute(\"CREATE table student(name TEXT,rno INTEGER)\")\n",
    "cur.execute(\"INSERT into student(name,rno) VALUES(?,?)\",('Anith',21))\n",
    "cur.execute(\"INSERT into student(name,rno) VALUES(?,?)\",('Arjun',20))\n",
    "cur.execute(\"select * from student\")\n",
    "print(cur.fetchall())\n",
    "conn.close()"
   ]
  }
 ],
 "metadata": {
  "kernelspec": {
   "display_name": "Python 3",
   "language": "python",
   "name": "python3"
  },
  "language_info": {
   "codemirror_mode": {
    "name": "ipython",
    "version": 3
   },
   "file_extension": ".py",
   "mimetype": "text/x-python",
   "name": "python",
   "nbconvert_exporter": "python",
   "pygments_lexer": "ipython3",
   "version": "3.8.5"
  }
 },
 "nbformat": 4,
 "nbformat_minor": 4
}
